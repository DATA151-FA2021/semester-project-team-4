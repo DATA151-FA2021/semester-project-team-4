{
  "nbformat": 4,
  "nbformat_minor": 0,
  "metadata": {
    "colab": {
      "name": "Modeling.ipynb",
      "provenance": []
    },
    "kernelspec": {
      "name": "python3",
      "display_name": "Python 3"
    },
    "language_info": {
      "name": "python"
    }
  },
  "cells": [
    {
      "cell_type": "code",
      "metadata": {
        "id": "We_KDJr7yLsx"
      },
      "source": [
        "%matplotlib inline\n",
        "import matplotlib.pyplot as plt\n",
        "import numpy as np\n",
        "import pandas as pd\n",
        "import seaborn as sns\n",
        "from sklearn.model_selection import train_test_split\n",
        "from sklearn.linear_model import LinearRegression\n",
        "from sklearn import metrics\n",
        "from sklearn.linear_model import Lasso\n",
        "from sklearn.preprocessing import StandardScaler\n",
        "from sklearn.ensemble import RandomForestClassifier, BaggingRegressor, AdaBoostClassifier, HistGradientBoostingClassifier\n",
        "from sklearn.linear_model import SGDRegressor"
      ],
      "execution_count": null,
      "outputs": []
    },
    {
      "cell_type": "code",
      "metadata": {
        "id": "pFzZO6Gz6Bvk"
      },
      "source": [
        "df = pd.read_csv('https://raw.githubusercontent.com/DATA151-FA2021/semester-project-team-4/main/data/IMDb_clean_with_dir_avg.csv?token=ARAN4D2CGACVZPJCCKZ2UDLBSQG2I') #must get new link each time"
      ],
      "execution_count": null,
      "outputs": []
    },
    {
      "cell_type": "code",
      "metadata": {
        "id": "oxqwscHaIvks"
      },
      "source": [
        "##df = pd.read_csv(\"/content/IMDb_clean_with_dir_avg.csv\")"
      ],
      "execution_count": null,
      "outputs": []
    },
    {
      "cell_type": "code",
      "metadata": {
        "colab": {
          "base_uri": "https://localhost:8080/",
          "height": 895
        },
        "id": "oCc_DHjH6RvG",
        "outputId": "3c22af21-ca47-40f0-d8f7-0467f8283ebb"
      },
      "source": [
        "df"
      ],
      "execution_count": null,
      "outputs": [
        {
          "output_type": "execute_result",
          "data": {
            "text/html": [
              "<div>\n",
              "<style scoped>\n",
              "    .dataframe tbody tr th:only-of-type {\n",
              "        vertical-align: middle;\n",
              "    }\n",
              "\n",
              "    .dataframe tbody tr th {\n",
              "        vertical-align: top;\n",
              "    }\n",
              "\n",
              "    .dataframe thead th {\n",
              "        text-align: right;\n",
              "    }\n",
              "</style>\n",
              "<table border=\"1\" class=\"dataframe\">\n",
              "  <thead>\n",
              "    <tr style=\"text-align: right;\">\n",
              "      <th></th>\n",
              "      <th>Unnamed: 0</th>\n",
              "      <th>title</th>\n",
              "      <th>year</th>\n",
              "      <th>genre</th>\n",
              "      <th>duration</th>\n",
              "      <th>country</th>\n",
              "      <th>language</th>\n",
              "      <th>director</th>\n",
              "      <th>avg_vote</th>\n",
              "      <th>votes</th>\n",
              "      <th>budget</th>\n",
              "      <th>usa_gross_income</th>\n",
              "      <th>worlwide_gross_income</th>\n",
              "      <th>metascore</th>\n",
              "      <th>reviews_from_users</th>\n",
              "      <th>reviews_from_critics</th>\n",
              "      <th>votecat</th>\n",
              "      <th>director_avg</th>\n",
              "    </tr>\n",
              "  </thead>\n",
              "  <tbody>\n",
              "    <tr>\n",
              "      <th>0</th>\n",
              "      <td>0</td>\n",
              "      <td>Fuoco assassino</td>\n",
              "      <td>1991</td>\n",
              "      <td>Action, Crime, Drama</td>\n",
              "      <td>137</td>\n",
              "      <td>USA</td>\n",
              "      <td>English</td>\n",
              "      <td>Ron Howard</td>\n",
              "      <td>6.7</td>\n",
              "      <td>70047</td>\n",
              "      <td>40000000</td>\n",
              "      <td>77868585</td>\n",
              "      <td>152368585</td>\n",
              "      <td>38</td>\n",
              "      <td>161</td>\n",
              "      <td>74</td>\n",
              "      <td>High</td>\n",
              "      <td>6.768000</td>\n",
              "    </tr>\n",
              "    <tr>\n",
              "      <th>1</th>\n",
              "      <td>1</td>\n",
              "      <td>Boyz n the Hood - Strade violente</td>\n",
              "      <td>1991</td>\n",
              "      <td>Crime, Drama</td>\n",
              "      <td>112</td>\n",
              "      <td>USA</td>\n",
              "      <td>English</td>\n",
              "      <td>John Singleton</td>\n",
              "      <td>7.8</td>\n",
              "      <td>121709</td>\n",
              "      <td>6500000</td>\n",
              "      <td>57504069</td>\n",
              "      <td>57529070</td>\n",
              "      <td>76</td>\n",
              "      <td>236</td>\n",
              "      <td>88</td>\n",
              "      <td>High</td>\n",
              "      <td>6.312500</td>\n",
              "    </tr>\n",
              "    <tr>\n",
              "      <th>2</th>\n",
              "      <td>2</td>\n",
              "      <td>Bugsy</td>\n",
              "      <td>1991</td>\n",
              "      <td>Biography, Crime, Drama</td>\n",
              "      <td>136</td>\n",
              "      <td>USA</td>\n",
              "      <td>English</td>\n",
              "      <td>Barry Levinson</td>\n",
              "      <td>6.8</td>\n",
              "      <td>25628</td>\n",
              "      <td>30000000</td>\n",
              "      <td>49114016</td>\n",
              "      <td>49114016</td>\n",
              "      <td>80</td>\n",
              "      <td>77</td>\n",
              "      <td>57</td>\n",
              "      <td>High</td>\n",
              "      <td>6.426087</td>\n",
              "    </tr>\n",
              "    <tr>\n",
              "      <th>3</th>\n",
              "      <td>3</td>\n",
              "      <td>Cape Fear - Il promontorio della paura</td>\n",
              "      <td>1991</td>\n",
              "      <td>Crime, Thriller</td>\n",
              "      <td>128</td>\n",
              "      <td>USA</td>\n",
              "      <td>English</td>\n",
              "      <td>Martin Scorsese</td>\n",
              "      <td>7.3</td>\n",
              "      <td>168724</td>\n",
              "      <td>35000000</td>\n",
              "      <td>79091969</td>\n",
              "      <td>182291969</td>\n",
              "      <td>73</td>\n",
              "      <td>329</td>\n",
              "      <td>132</td>\n",
              "      <td>High</td>\n",
              "      <td>7.528000</td>\n",
              "    </tr>\n",
              "    <tr>\n",
              "      <th>4</th>\n",
              "      <td>4</td>\n",
              "      <td>Scappo dalla città - La vita, l'amore e le vacche</td>\n",
              "      <td>1991</td>\n",
              "      <td>Comedy, Western</td>\n",
              "      <td>113</td>\n",
              "      <td>USA</td>\n",
              "      <td>English</td>\n",
              "      <td>Ron Underwood</td>\n",
              "      <td>6.8</td>\n",
              "      <td>47309</td>\n",
              "      <td>27000000</td>\n",
              "      <td>124033791</td>\n",
              "      <td>179033791</td>\n",
              "      <td>70</td>\n",
              "      <td>96</td>\n",
              "      <td>54</td>\n",
              "      <td>High</td>\n",
              "      <td>5.562500</td>\n",
              "    </tr>\n",
              "    <tr>\n",
              "      <th>...</th>\n",
              "      <td>...</td>\n",
              "      <td>...</td>\n",
              "      <td>...</td>\n",
              "      <td>...</td>\n",
              "      <td>...</td>\n",
              "      <td>...</td>\n",
              "      <td>...</td>\n",
              "      <td>...</td>\n",
              "      <td>...</td>\n",
              "      <td>...</td>\n",
              "      <td>...</td>\n",
              "      <td>...</td>\n",
              "      <td>...</td>\n",
              "      <td>...</td>\n",
              "      <td>...</td>\n",
              "      <td>...</td>\n",
              "      <td>...</td>\n",
              "      <td>...</td>\n",
              "    </tr>\n",
              "    <tr>\n",
              "      <th>1940</th>\n",
              "      <td>1940</td>\n",
              "      <td>Annabelle 3</td>\n",
              "      <td>2019</td>\n",
              "      <td>Horror, Mystery, Thriller</td>\n",
              "      <td>106</td>\n",
              "      <td>USA</td>\n",
              "      <td>English</td>\n",
              "      <td>Gary Dauberman</td>\n",
              "      <td>5.9</td>\n",
              "      <td>53649</td>\n",
              "      <td>30000000</td>\n",
              "      <td>74152591</td>\n",
              "      <td>231252591</td>\n",
              "      <td>53</td>\n",
              "      <td>748</td>\n",
              "      <td>229</td>\n",
              "      <td>Middle</td>\n",
              "      <td>5.900000</td>\n",
              "    </tr>\n",
              "    <tr>\n",
              "      <th>1941</th>\n",
              "      <td>1941</td>\n",
              "      <td>The Tax Collector</td>\n",
              "      <td>2020</td>\n",
              "      <td>Action, Crime, Drama</td>\n",
              "      <td>95</td>\n",
              "      <td>USA</td>\n",
              "      <td>English</td>\n",
              "      <td>David Ayer</td>\n",
              "      <td>4.7</td>\n",
              "      <td>4862</td>\n",
              "      <td>30000000</td>\n",
              "      <td>942666</td>\n",
              "      <td>942666</td>\n",
              "      <td>22</td>\n",
              "      <td>255</td>\n",
              "      <td>47</td>\n",
              "      <td>Middle</td>\n",
              "      <td>6.450000</td>\n",
              "    </tr>\n",
              "    <tr>\n",
              "      <th>1942</th>\n",
              "      <td>1942</td>\n",
              "      <td>Unplanned</td>\n",
              "      <td>2019</td>\n",
              "      <td>Biography, Drama</td>\n",
              "      <td>109</td>\n",
              "      <td>USA</td>\n",
              "      <td>English</td>\n",
              "      <td>Chuck Konzelman, Cary Solomon</td>\n",
              "      <td>5.8</td>\n",
              "      <td>12182</td>\n",
              "      <td>6000000</td>\n",
              "      <td>19005109</td>\n",
              "      <td>21171090</td>\n",
              "      <td>10</td>\n",
              "      <td>629</td>\n",
              "      <td>34</td>\n",
              "      <td>Middle</td>\n",
              "      <td>5.550000</td>\n",
              "    </tr>\n",
              "    <tr>\n",
              "      <th>1943</th>\n",
              "      <td>1943</td>\n",
              "      <td>Impractical Jokers: The Movie</td>\n",
              "      <td>2020</td>\n",
              "      <td>Comedy</td>\n",
              "      <td>92</td>\n",
              "      <td>USA</td>\n",
              "      <td>English</td>\n",
              "      <td>Chris Henchy</td>\n",
              "      <td>5.9</td>\n",
              "      <td>4105</td>\n",
              "      <td>3000000</td>\n",
              "      <td>10691091</td>\n",
              "      <td>10691091</td>\n",
              "      <td>39</td>\n",
              "      <td>152</td>\n",
              "      <td>17</td>\n",
              "      <td>Middle</td>\n",
              "      <td>5.900000</td>\n",
              "    </tr>\n",
              "    <tr>\n",
              "      <th>1944</th>\n",
              "      <td>1944</td>\n",
              "      <td>Cosa mi lasci di te</td>\n",
              "      <td>2020</td>\n",
              "      <td>Biography, Drama, Music</td>\n",
              "      <td>116</td>\n",
              "      <td>USA</td>\n",
              "      <td>English</td>\n",
              "      <td>Andrew Erwin, Jon Erwin</td>\n",
              "      <td>6.5</td>\n",
              "      <td>6196</td>\n",
              "      <td>12000000</td>\n",
              "      <td>9868521</td>\n",
              "      <td>13681524</td>\n",
              "      <td>41</td>\n",
              "      <td>151</td>\n",
              "      <td>52</td>\n",
              "      <td>Middle</td>\n",
              "      <td>6.425000</td>\n",
              "    </tr>\n",
              "  </tbody>\n",
              "</table>\n",
              "<p>1945 rows × 18 columns</p>\n",
              "</div>"
            ],
            "text/plain": [
              "      Unnamed: 0  ... director_avg\n",
              "0              0  ...     6.768000\n",
              "1              1  ...     6.312500\n",
              "2              2  ...     6.426087\n",
              "3              3  ...     7.528000\n",
              "4              4  ...     5.562500\n",
              "...          ...  ...          ...\n",
              "1940        1940  ...     5.900000\n",
              "1941        1941  ...     6.450000\n",
              "1942        1942  ...     5.550000\n",
              "1943        1943  ...     5.900000\n",
              "1944        1944  ...     6.425000\n",
              "\n",
              "[1945 rows x 18 columns]"
            ]
          },
          "metadata": {},
          "execution_count": 9
        }
      ]
    },
    {
      "cell_type": "markdown",
      "metadata": {
        "id": "Ravm6CCZBHrE"
      },
      "source": [
        "Regression model with all features."
      ]
    },
    {
      "cell_type": "code",
      "metadata": {
        "id": "kYobb_6c6Swn"
      },
      "source": [
        "features = df[['duration', 'budget', 'usa_gross_income', 'metascore', 'director_avg']]"
      ],
      "execution_count": null,
      "outputs": []
    },
    {
      "cell_type": "code",
      "metadata": {
        "colab": {
          "base_uri": "https://localhost:8080/",
          "height": 419
        },
        "id": "8SLu3zeI8-0r",
        "outputId": "3e98baa1-98c9-41c1-cdf2-fb18a256f8f9"
      },
      "source": [
        "features"
      ],
      "execution_count": null,
      "outputs": [
        {
          "output_type": "execute_result",
          "data": {
            "text/html": [
              "<div>\n",
              "<style scoped>\n",
              "    .dataframe tbody tr th:only-of-type {\n",
              "        vertical-align: middle;\n",
              "    }\n",
              "\n",
              "    .dataframe tbody tr th {\n",
              "        vertical-align: top;\n",
              "    }\n",
              "\n",
              "    .dataframe thead th {\n",
              "        text-align: right;\n",
              "    }\n",
              "</style>\n",
              "<table border=\"1\" class=\"dataframe\">\n",
              "  <thead>\n",
              "    <tr style=\"text-align: right;\">\n",
              "      <th></th>\n",
              "      <th>duration</th>\n",
              "      <th>budget</th>\n",
              "      <th>usa_gross_income</th>\n",
              "      <th>metascore</th>\n",
              "      <th>director_avg</th>\n",
              "    </tr>\n",
              "  </thead>\n",
              "  <tbody>\n",
              "    <tr>\n",
              "      <th>0</th>\n",
              "      <td>137</td>\n",
              "      <td>40000000</td>\n",
              "      <td>77868585</td>\n",
              "      <td>38</td>\n",
              "      <td>6.768000</td>\n",
              "    </tr>\n",
              "    <tr>\n",
              "      <th>1</th>\n",
              "      <td>112</td>\n",
              "      <td>6500000</td>\n",
              "      <td>57504069</td>\n",
              "      <td>76</td>\n",
              "      <td>6.312500</td>\n",
              "    </tr>\n",
              "    <tr>\n",
              "      <th>2</th>\n",
              "      <td>136</td>\n",
              "      <td>30000000</td>\n",
              "      <td>49114016</td>\n",
              "      <td>80</td>\n",
              "      <td>6.426087</td>\n",
              "    </tr>\n",
              "    <tr>\n",
              "      <th>3</th>\n",
              "      <td>128</td>\n",
              "      <td>35000000</td>\n",
              "      <td>79091969</td>\n",
              "      <td>73</td>\n",
              "      <td>7.528000</td>\n",
              "    </tr>\n",
              "    <tr>\n",
              "      <th>4</th>\n",
              "      <td>113</td>\n",
              "      <td>27000000</td>\n",
              "      <td>124033791</td>\n",
              "      <td>70</td>\n",
              "      <td>5.562500</td>\n",
              "    </tr>\n",
              "    <tr>\n",
              "      <th>...</th>\n",
              "      <td>...</td>\n",
              "      <td>...</td>\n",
              "      <td>...</td>\n",
              "      <td>...</td>\n",
              "      <td>...</td>\n",
              "    </tr>\n",
              "    <tr>\n",
              "      <th>1940</th>\n",
              "      <td>106</td>\n",
              "      <td>30000000</td>\n",
              "      <td>74152591</td>\n",
              "      <td>53</td>\n",
              "      <td>5.900000</td>\n",
              "    </tr>\n",
              "    <tr>\n",
              "      <th>1941</th>\n",
              "      <td>95</td>\n",
              "      <td>30000000</td>\n",
              "      <td>942666</td>\n",
              "      <td>22</td>\n",
              "      <td>6.450000</td>\n",
              "    </tr>\n",
              "    <tr>\n",
              "      <th>1942</th>\n",
              "      <td>109</td>\n",
              "      <td>6000000</td>\n",
              "      <td>19005109</td>\n",
              "      <td>10</td>\n",
              "      <td>5.550000</td>\n",
              "    </tr>\n",
              "    <tr>\n",
              "      <th>1943</th>\n",
              "      <td>92</td>\n",
              "      <td>3000000</td>\n",
              "      <td>10691091</td>\n",
              "      <td>39</td>\n",
              "      <td>5.900000</td>\n",
              "    </tr>\n",
              "    <tr>\n",
              "      <th>1944</th>\n",
              "      <td>116</td>\n",
              "      <td>12000000</td>\n",
              "      <td>9868521</td>\n",
              "      <td>41</td>\n",
              "      <td>6.425000</td>\n",
              "    </tr>\n",
              "  </tbody>\n",
              "</table>\n",
              "<p>1945 rows × 5 columns</p>\n",
              "</div>"
            ],
            "text/plain": [
              "      duration    budget  usa_gross_income  metascore  director_avg\n",
              "0          137  40000000          77868585         38      6.768000\n",
              "1          112   6500000          57504069         76      6.312500\n",
              "2          136  30000000          49114016         80      6.426087\n",
              "3          128  35000000          79091969         73      7.528000\n",
              "4          113  27000000         124033791         70      5.562500\n",
              "...        ...       ...               ...        ...           ...\n",
              "1940       106  30000000          74152591         53      5.900000\n",
              "1941        95  30000000            942666         22      6.450000\n",
              "1942       109   6000000          19005109         10      5.550000\n",
              "1943        92   3000000          10691091         39      5.900000\n",
              "1944       116  12000000           9868521         41      6.425000\n",
              "\n",
              "[1945 rows x 5 columns]"
            ]
          },
          "metadata": {},
          "execution_count": 8
        }
      ]
    },
    {
      "cell_type": "code",
      "metadata": {
        "id": "KklOhVcH9DCE"
      },
      "source": [
        "X_train, X_test, y_train, y_test = train_test_split(features, df['avg_vote'], test_size=0.3)"
      ],
      "execution_count": null,
      "outputs": []
    },
    {
      "cell_type": "code",
      "metadata": {
        "id": "Ygd0rSTx9aGG"
      },
      "source": [
        "regressor = LinearRegression()\n",
        "regressor.fit(X_train, y_train);"
      ],
      "execution_count": null,
      "outputs": []
    },
    {
      "cell_type": "code",
      "metadata": {
        "colab": {
          "base_uri": "https://localhost:8080/",
          "height": 204
        },
        "id": "y4jBjANCEENn",
        "outputId": "278c98c8-1723-4218-d691-6cd5514b34b5"
      },
      "source": [
        "coeff_df = pd.DataFrame(regressor.coef_, features.columns, columns=['Coefficient'])\n",
        "coeff_df"
      ],
      "execution_count": null,
      "outputs": [
        {
          "output_type": "execute_result",
          "data": {
            "text/html": [
              "<div>\n",
              "<style scoped>\n",
              "    .dataframe tbody tr th:only-of-type {\n",
              "        vertical-align: middle;\n",
              "    }\n",
              "\n",
              "    .dataframe tbody tr th {\n",
              "        vertical-align: top;\n",
              "    }\n",
              "\n",
              "    .dataframe thead th {\n",
              "        text-align: right;\n",
              "    }\n",
              "</style>\n",
              "<table border=\"1\" class=\"dataframe\">\n",
              "  <thead>\n",
              "    <tr style=\"text-align: right;\">\n",
              "      <th></th>\n",
              "      <th>Coefficient</th>\n",
              "    </tr>\n",
              "  </thead>\n",
              "  <tbody>\n",
              "    <tr>\n",
              "      <th>duration</th>\n",
              "      <td>7.185162e-03</td>\n",
              "    </tr>\n",
              "    <tr>\n",
              "      <th>budget</th>\n",
              "      <td>-3.546222e-09</td>\n",
              "    </tr>\n",
              "    <tr>\n",
              "      <th>usa_gross_income</th>\n",
              "      <td>1.339059e-09</td>\n",
              "    </tr>\n",
              "    <tr>\n",
              "      <th>metascore</th>\n",
              "      <td>2.192859e-02</td>\n",
              "    </tr>\n",
              "    <tr>\n",
              "      <th>director_avg</th>\n",
              "      <td>6.653231e-01</td>\n",
              "    </tr>\n",
              "  </tbody>\n",
              "</table>\n",
              "</div>"
            ],
            "text/plain": [
              "                   Coefficient\n",
              "duration          7.185162e-03\n",
              "budget           -3.546222e-09\n",
              "usa_gross_income  1.339059e-09\n",
              "metascore         2.192859e-02\n",
              "director_avg      6.653231e-01"
            ]
          },
          "metadata": {},
          "execution_count": 11
        }
      ]
    },
    {
      "cell_type": "code",
      "metadata": {
        "id": "ulEEcD7r91kT"
      },
      "source": [
        "y_pred = regressor.predict(X_test)"
      ],
      "execution_count": null,
      "outputs": []
    },
    {
      "cell_type": "code",
      "metadata": {
        "colab": {
          "base_uri": "https://localhost:8080/",
          "height": 419
        },
        "id": "WreNxRQ496N4",
        "outputId": "e84ae239-f897-4342-9c0f-39e89fa9f2ed"
      },
      "source": [
        "df_test = pd.DataFrame({'Actual': y_test, 'Predicted': y_pred})\n",
        "df_test"
      ],
      "execution_count": null,
      "outputs": [
        {
          "output_type": "execute_result",
          "data": {
            "text/html": [
              "<div>\n",
              "<style scoped>\n",
              "    .dataframe tbody tr th:only-of-type {\n",
              "        vertical-align: middle;\n",
              "    }\n",
              "\n",
              "    .dataframe tbody tr th {\n",
              "        vertical-align: top;\n",
              "    }\n",
              "\n",
              "    .dataframe thead th {\n",
              "        text-align: right;\n",
              "    }\n",
              "</style>\n",
              "<table border=\"1\" class=\"dataframe\">\n",
              "  <thead>\n",
              "    <tr style=\"text-align: right;\">\n",
              "      <th></th>\n",
              "      <th>Actual</th>\n",
              "      <th>Predicted</th>\n",
              "    </tr>\n",
              "  </thead>\n",
              "  <tbody>\n",
              "    <tr>\n",
              "      <th>1248</th>\n",
              "      <td>6.8</td>\n",
              "      <td>6.420831</td>\n",
              "    </tr>\n",
              "    <tr>\n",
              "      <th>287</th>\n",
              "      <td>6.8</td>\n",
              "      <td>6.767726</td>\n",
              "    </tr>\n",
              "    <tr>\n",
              "      <th>1238</th>\n",
              "      <td>6.7</td>\n",
              "      <td>6.257312</td>\n",
              "    </tr>\n",
              "    <tr>\n",
              "      <th>381</th>\n",
              "      <td>5.3</td>\n",
              "      <td>5.230857</td>\n",
              "    </tr>\n",
              "    <tr>\n",
              "      <th>956</th>\n",
              "      <td>6.4</td>\n",
              "      <td>6.179563</td>\n",
              "    </tr>\n",
              "    <tr>\n",
              "      <th>...</th>\n",
              "      <td>...</td>\n",
              "      <td>...</td>\n",
              "    </tr>\n",
              "    <tr>\n",
              "      <th>555</th>\n",
              "      <td>5.0</td>\n",
              "      <td>4.919421</td>\n",
              "    </tr>\n",
              "    <tr>\n",
              "      <th>1333</th>\n",
              "      <td>6.2</td>\n",
              "      <td>6.141903</td>\n",
              "    </tr>\n",
              "    <tr>\n",
              "      <th>814</th>\n",
              "      <td>5.7</td>\n",
              "      <td>6.028903</td>\n",
              "    </tr>\n",
              "    <tr>\n",
              "      <th>1865</th>\n",
              "      <td>3.5</td>\n",
              "      <td>4.614922</td>\n",
              "    </tr>\n",
              "    <tr>\n",
              "      <th>1283</th>\n",
              "      <td>6.5</td>\n",
              "      <td>6.246060</td>\n",
              "    </tr>\n",
              "  </tbody>\n",
              "</table>\n",
              "<p>584 rows × 2 columns</p>\n",
              "</div>"
            ],
            "text/plain": [
              "      Actual  Predicted\n",
              "1248     6.8   6.420831\n",
              "287      6.8   6.767726\n",
              "1238     6.7   6.257312\n",
              "381      5.3   5.230857\n",
              "956      6.4   6.179563\n",
              "...      ...        ...\n",
              "555      5.0   4.919421\n",
              "1333     6.2   6.141903\n",
              "814      5.7   6.028903\n",
              "1865     3.5   4.614922\n",
              "1283     6.5   6.246060\n",
              "\n",
              "[584 rows x 2 columns]"
            ]
          },
          "metadata": {},
          "execution_count": 13
        }
      ]
    },
    {
      "cell_type": "code",
      "metadata": {
        "colab": {
          "base_uri": "https://localhost:8080/"
        },
        "id": "8oxhYsZ4-HNB",
        "outputId": "51430f5e-457a-4630-ca99-e10f535012e2"
      },
      "source": [
        "print('Mean Absolute Error:', metrics.mean_absolute_error(y_test, y_pred))\n",
        "print('Mean Squared Error:', metrics.mean_squared_error(y_test, y_pred))\n",
        "print('Root Mean Squared Error:', np.sqrt(metrics.mean_squared_error(y_test, y_pred)))\n",
        "print('R^2: ', metrics.r2_score(y_test, y_pred))"
      ],
      "execution_count": null,
      "outputs": [
        {
          "output_type": "stream",
          "name": "stdout",
          "text": [
            "Mean Absolute Error: 0.4008916107410634\n",
            "Mean Squared Error: 0.26708958937523464\n",
            "Root Mean Squared Error: 0.5168071104147414\n",
            "R^2:  0.7066380264913159\n"
          ]
        }
      ]
    },
    {
      "cell_type": "markdown",
      "metadata": {
        "id": "RfcPERwGBfSE"
      },
      "source": [
        "Regression model without director average."
      ]
    },
    {
      "cell_type": "code",
      "metadata": {
        "colab": {
          "base_uri": "https://localhost:8080/",
          "height": 419
        },
        "id": "_aF8yD08-K28",
        "outputId": "0422ef0a-f9a9-46a6-ed3f-a7f13d5bb051"
      },
      "source": [
        "features2 = df[['duration', 'budget', 'usa_gross_income', 'metascore']]\n",
        "X_train2, X_test2, y_train2, y_test2 = train_test_split(features2, df['avg_vote'], test_size=0.3)\n",
        "regressor.fit(X_train2, y_train2)\n",
        "y_pred2 = regressor.predict(X_test2)\n",
        "df_test2 = pd.DataFrame({'Actual': y_test2, 'Predicted': y_pred2})\n",
        "df_test2"
      ],
      "execution_count": null,
      "outputs": [
        {
          "output_type": "execute_result",
          "data": {
            "text/html": [
              "<div>\n",
              "<style scoped>\n",
              "    .dataframe tbody tr th:only-of-type {\n",
              "        vertical-align: middle;\n",
              "    }\n",
              "\n",
              "    .dataframe tbody tr th {\n",
              "        vertical-align: top;\n",
              "    }\n",
              "\n",
              "    .dataframe thead th {\n",
              "        text-align: right;\n",
              "    }\n",
              "</style>\n",
              "<table border=\"1\" class=\"dataframe\">\n",
              "  <thead>\n",
              "    <tr style=\"text-align: right;\">\n",
              "      <th></th>\n",
              "      <th>Actual</th>\n",
              "      <th>Predicted</th>\n",
              "    </tr>\n",
              "  </thead>\n",
              "  <tbody>\n",
              "    <tr>\n",
              "      <th>658</th>\n",
              "      <td>6.3</td>\n",
              "      <td>6.180801</td>\n",
              "    </tr>\n",
              "    <tr>\n",
              "      <th>823</th>\n",
              "      <td>6.7</td>\n",
              "      <td>6.587147</td>\n",
              "    </tr>\n",
              "    <tr>\n",
              "      <th>964</th>\n",
              "      <td>6.5</td>\n",
              "      <td>7.476458</td>\n",
              "    </tr>\n",
              "    <tr>\n",
              "      <th>121</th>\n",
              "      <td>6.1</td>\n",
              "      <td>6.504378</td>\n",
              "    </tr>\n",
              "    <tr>\n",
              "      <th>1120</th>\n",
              "      <td>7.1</td>\n",
              "      <td>6.572976</td>\n",
              "    </tr>\n",
              "    <tr>\n",
              "      <th>...</th>\n",
              "      <td>...</td>\n",
              "      <td>...</td>\n",
              "    </tr>\n",
              "    <tr>\n",
              "      <th>1663</th>\n",
              "      <td>5.9</td>\n",
              "      <td>6.010902</td>\n",
              "    </tr>\n",
              "    <tr>\n",
              "      <th>405</th>\n",
              "      <td>7.3</td>\n",
              "      <td>7.549184</td>\n",
              "    </tr>\n",
              "    <tr>\n",
              "      <th>829</th>\n",
              "      <td>6.5</td>\n",
              "      <td>6.040175</td>\n",
              "    </tr>\n",
              "    <tr>\n",
              "      <th>1066</th>\n",
              "      <td>3.2</td>\n",
              "      <td>5.581850</td>\n",
              "    </tr>\n",
              "    <tr>\n",
              "      <th>855</th>\n",
              "      <td>6.8</td>\n",
              "      <td>6.409922</td>\n",
              "    </tr>\n",
              "  </tbody>\n",
              "</table>\n",
              "<p>584 rows × 2 columns</p>\n",
              "</div>"
            ],
            "text/plain": [
              "      Actual  Predicted\n",
              "658      6.3   6.180801\n",
              "823      6.7   6.587147\n",
              "964      6.5   7.476458\n",
              "121      6.1   6.504378\n",
              "1120     7.1   6.572976\n",
              "...      ...        ...\n",
              "1663     5.9   6.010902\n",
              "405      7.3   7.549184\n",
              "829      6.5   6.040175\n",
              "1066     3.2   5.581850\n",
              "855      6.8   6.409922\n",
              "\n",
              "[584 rows x 2 columns]"
            ]
          },
          "metadata": {},
          "execution_count": 20
        }
      ]
    },
    {
      "cell_type": "code",
      "metadata": {
        "colab": {
          "base_uri": "https://localhost:8080/"
        },
        "id": "tbBvQMVXCO1W",
        "outputId": "3a068376-bf8b-47a5-b7ba-0c90b9cc025b"
      },
      "source": [
        "print('Mean Absolute Error:', metrics.mean_absolute_error(y_test2, y_pred2))\n",
        "print('Mean Squared Error:', metrics.mean_squared_error(y_test2, y_pred2))\n",
        "print('Root Mean Squared Error:', np.sqrt(metrics.mean_squared_error(y_test2, y_pred2)))\n",
        "print('R^2: ', metrics.r2_score(y_test2, y_pred2))"
      ],
      "execution_count": null,
      "outputs": [
        {
          "output_type": "stream",
          "name": "stdout",
          "text": [
            "Mean Absolute Error: 0.5059291108983924\n",
            "Mean Squared Error: 0.47818709718677815\n",
            "Root Mean Squared Error: 0.6915107354096378\n",
            "R^2:  0.521751147325936\n"
          ]
        }
      ]
    },
    {
      "cell_type": "markdown",
      "metadata": {
        "id": "Ikp7pnrhHxQZ"
      },
      "source": [
        "Without metascore"
      ]
    },
    {
      "cell_type": "code",
      "metadata": {
        "colab": {
          "base_uri": "https://localhost:8080/",
          "height": 419
        },
        "id": "lOZmbKKnCZUJ",
        "outputId": "f4416ac6-d453-4a55-c2ad-d4652b9d1109"
      },
      "source": [
        "features3 = df[['duration', 'budget', 'usa_gross_income', 'director_avg']]\n",
        "X_train3, X_test3, y_train3, y_test3 = train_test_split(features3, df['avg_vote'], test_size=0.3)\n",
        "regressor.fit(X_train3, y_train3)\n",
        "y_pred3 = regressor.predict(X_test3)\n",
        "df_test3 = pd.DataFrame({'Actual': y_test3, 'Predicted': y_pred3})\n",
        "df_test3"
      ],
      "execution_count": null,
      "outputs": [
        {
          "output_type": "execute_result",
          "data": {
            "text/html": [
              "<div>\n",
              "<style scoped>\n",
              "    .dataframe tbody tr th:only-of-type {\n",
              "        vertical-align: middle;\n",
              "    }\n",
              "\n",
              "    .dataframe tbody tr th {\n",
              "        vertical-align: top;\n",
              "    }\n",
              "\n",
              "    .dataframe thead th {\n",
              "        text-align: right;\n",
              "    }\n",
              "</style>\n",
              "<table border=\"1\" class=\"dataframe\">\n",
              "  <thead>\n",
              "    <tr style=\"text-align: right;\">\n",
              "      <th></th>\n",
              "      <th>Actual</th>\n",
              "      <th>Predicted</th>\n",
              "    </tr>\n",
              "  </thead>\n",
              "  <tbody>\n",
              "    <tr>\n",
              "      <th>1554</th>\n",
              "      <td>6.7</td>\n",
              "      <td>6.096211</td>\n",
              "    </tr>\n",
              "    <tr>\n",
              "      <th>77</th>\n",
              "      <td>6.7</td>\n",
              "      <td>6.056250</td>\n",
              "    </tr>\n",
              "    <tr>\n",
              "      <th>557</th>\n",
              "      <td>4.7</td>\n",
              "      <td>5.092753</td>\n",
              "    </tr>\n",
              "    <tr>\n",
              "      <th>1428</th>\n",
              "      <td>6.1</td>\n",
              "      <td>5.254864</td>\n",
              "    </tr>\n",
              "    <tr>\n",
              "      <th>1336</th>\n",
              "      <td>5.2</td>\n",
              "      <td>5.742631</td>\n",
              "    </tr>\n",
              "    <tr>\n",
              "      <th>...</th>\n",
              "      <td>...</td>\n",
              "      <td>...</td>\n",
              "    </tr>\n",
              "    <tr>\n",
              "      <th>401</th>\n",
              "      <td>4.5</td>\n",
              "      <td>5.865659</td>\n",
              "    </tr>\n",
              "    <tr>\n",
              "      <th>1399</th>\n",
              "      <td>6.7</td>\n",
              "      <td>6.872435</td>\n",
              "    </tr>\n",
              "    <tr>\n",
              "      <th>454</th>\n",
              "      <td>5.7</td>\n",
              "      <td>5.723917</td>\n",
              "    </tr>\n",
              "    <tr>\n",
              "      <th>55</th>\n",
              "      <td>7.5</td>\n",
              "      <td>6.774668</td>\n",
              "    </tr>\n",
              "    <tr>\n",
              "      <th>895</th>\n",
              "      <td>6.3</td>\n",
              "      <td>5.485169</td>\n",
              "    </tr>\n",
              "  </tbody>\n",
              "</table>\n",
              "<p>584 rows × 2 columns</p>\n",
              "</div>"
            ],
            "text/plain": [
              "      Actual  Predicted\n",
              "1554     6.7   6.096211\n",
              "77       6.7   6.056250\n",
              "557      4.7   5.092753\n",
              "1428     6.1   5.254864\n",
              "1336     5.2   5.742631\n",
              "...      ...        ...\n",
              "401      4.5   5.865659\n",
              "1399     6.7   6.872435\n",
              "454      5.7   5.723917\n",
              "55       7.5   6.774668\n",
              "895      6.3   5.485169\n",
              "\n",
              "[584 rows x 2 columns]"
            ]
          },
          "metadata": {},
          "execution_count": 22
        }
      ]
    },
    {
      "cell_type": "code",
      "metadata": {
        "colab": {
          "base_uri": "https://localhost:8080/"
        },
        "id": "fdIVZhIUDrMP",
        "outputId": "96d2345c-1e68-4cb9-cd78-1f5efd1f3e00"
      },
      "source": [
        "print('Mean Absolute Error:', metrics.mean_absolute_error(y_test3, y_pred3))\n",
        "print('Mean Squared Error:', metrics.mean_squared_error(y_test3, y_pred3))\n",
        "print('Root Mean Squared Error:', np.sqrt(metrics.mean_squared_error(y_test3, y_pred3)))\n",
        "print('R^2: ', metrics.r2_score(y_test3, y_pred3))"
      ],
      "execution_count": null,
      "outputs": [
        {
          "output_type": "stream",
          "name": "stdout",
          "text": [
            "Mean Absolute Error: 0.45886300889235254\n",
            "Mean Squared Error: 0.40377074404565444\n",
            "Root Mean Squared Error: 0.635429574418483\n",
            "R^2:  0.6067517168969845\n"
          ]
        }
      ]
    },
    {
      "cell_type": "markdown",
      "metadata": {
        "id": "O8UpVZfRXkul"
      },
      "source": [
        "Without budget and gross income"
      ]
    },
    {
      "cell_type": "code",
      "metadata": {
        "colab": {
          "base_uri": "https://localhost:8080/",
          "height": 419
        },
        "id": "Sm4AQ-zSWw5B",
        "outputId": "8a44622b-2689-441e-fa62-ce0a977bf528"
      },
      "source": [
        "features5 = df[['duration', 'metascore', 'director_avg']]\n",
        "X_train5, X_test5, y_train5, y_test5 = train_test_split(features5, df['avg_vote'], test_size=0.3)\n",
        "regressor.fit(X_train5, y_train5)\n",
        "y_pred5 = regressor.predict(X_test5)\n",
        "df_test5 = pd.DataFrame({'Actual': y_test5, 'Predicted': y_pred5})\n",
        "df_test5"
      ],
      "execution_count": null,
      "outputs": [
        {
          "output_type": "execute_result",
          "data": {
            "text/html": [
              "<div>\n",
              "<style scoped>\n",
              "    .dataframe tbody tr th:only-of-type {\n",
              "        vertical-align: middle;\n",
              "    }\n",
              "\n",
              "    .dataframe tbody tr th {\n",
              "        vertical-align: top;\n",
              "    }\n",
              "\n",
              "    .dataframe thead th {\n",
              "        text-align: right;\n",
              "    }\n",
              "</style>\n",
              "<table border=\"1\" class=\"dataframe\">\n",
              "  <thead>\n",
              "    <tr style=\"text-align: right;\">\n",
              "      <th></th>\n",
              "      <th>Actual</th>\n",
              "      <th>Predicted</th>\n",
              "    </tr>\n",
              "  </thead>\n",
              "  <tbody>\n",
              "    <tr>\n",
              "      <th>763</th>\n",
              "      <td>6.3</td>\n",
              "      <td>5.567760</td>\n",
              "    </tr>\n",
              "    <tr>\n",
              "      <th>175</th>\n",
              "      <td>6.1</td>\n",
              "      <td>6.850177</td>\n",
              "    </tr>\n",
              "    <tr>\n",
              "      <th>813</th>\n",
              "      <td>6.1</td>\n",
              "      <td>5.806932</td>\n",
              "    </tr>\n",
              "    <tr>\n",
              "      <th>33</th>\n",
              "      <td>6.3</td>\n",
              "      <td>6.071211</td>\n",
              "    </tr>\n",
              "    <tr>\n",
              "      <th>1394</th>\n",
              "      <td>5.7</td>\n",
              "      <td>5.829854</td>\n",
              "    </tr>\n",
              "    <tr>\n",
              "      <th>...</th>\n",
              "      <td>...</td>\n",
              "      <td>...</td>\n",
              "    </tr>\n",
              "    <tr>\n",
              "      <th>164</th>\n",
              "      <td>5.8</td>\n",
              "      <td>6.135381</td>\n",
              "    </tr>\n",
              "    <tr>\n",
              "      <th>894</th>\n",
              "      <td>5.8</td>\n",
              "      <td>5.289962</td>\n",
              "    </tr>\n",
              "    <tr>\n",
              "      <th>1484</th>\n",
              "      <td>7.8</td>\n",
              "      <td>7.521358</td>\n",
              "    </tr>\n",
              "    <tr>\n",
              "      <th>1508</th>\n",
              "      <td>6.1</td>\n",
              "      <td>5.869975</td>\n",
              "    </tr>\n",
              "    <tr>\n",
              "      <th>1525</th>\n",
              "      <td>5.8</td>\n",
              "      <td>6.207963</td>\n",
              "    </tr>\n",
              "  </tbody>\n",
              "</table>\n",
              "<p>584 rows × 2 columns</p>\n",
              "</div>"
            ],
            "text/plain": [
              "      Actual  Predicted\n",
              "763      6.3   5.567760\n",
              "175      6.1   6.850177\n",
              "813      6.1   5.806932\n",
              "33       6.3   6.071211\n",
              "1394     5.7   5.829854\n",
              "...      ...        ...\n",
              "164      5.8   6.135381\n",
              "894      5.8   5.289962\n",
              "1484     7.8   7.521358\n",
              "1508     6.1   5.869975\n",
              "1525     5.8   6.207963\n",
              "\n",
              "[584 rows x 2 columns]"
            ]
          },
          "metadata": {},
          "execution_count": 26
        }
      ]
    },
    {
      "cell_type": "code",
      "metadata": {
        "colab": {
          "base_uri": "https://localhost:8080/"
        },
        "id": "Z3yAjKTrXBzA",
        "outputId": "eb310b51-93a3-4baf-f879-43f6de2b8a66"
      },
      "source": [
        "print('Mean Absolute Error:', metrics.mean_absolute_error(y_test5, y_pred5))\n",
        "print('Mean Squared Error:', metrics.mean_squared_error(y_test5, y_pred5))\n",
        "print('Root Mean Squared Error:', np.sqrt(metrics.mean_squared_error(y_test5, y_pred5)))\n",
        "print('R^2: ', metrics.r2_score(y_test5, y_pred5))"
      ],
      "execution_count": null,
      "outputs": [
        {
          "output_type": "stream",
          "name": "stdout",
          "text": [
            "Mean Absolute Error: 0.44067205633533696\n",
            "Mean Squared Error: 0.353530045949945\n",
            "Root Mean Squared Error: 0.5945839267504168\n",
            "R^2:  0.6452580800299659\n"
          ]
        }
      ]
    },
    {
      "cell_type": "markdown",
      "metadata": {
        "id": "V6jhW-gaH0aF"
      },
      "source": [
        "Lasso Regression with all features"
      ]
    },
    {
      "cell_type": "code",
      "metadata": {
        "colab": {
          "base_uri": "https://localhost:8080/",
          "height": 419
        },
        "id": "x62DOJEAD7Np",
        "outputId": "507cd206-8483-45ad-94f6-9b8cbcf945e6"
      },
      "source": [
        "lassoRegressor = Lasso()\n",
        "lassoRegressor.fit(X_train, y_train)\n",
        "y_pred = lassoRegressor.predict(X_test)\n",
        "df_test = pd.DataFrame({'Actual': y_test, 'Predicted': y_pred})\n",
        "df_test"
      ],
      "execution_count": null,
      "outputs": [
        {
          "output_type": "execute_result",
          "data": {
            "text/html": [
              "<div>\n",
              "<style scoped>\n",
              "    .dataframe tbody tr th:only-of-type {\n",
              "        vertical-align: middle;\n",
              "    }\n",
              "\n",
              "    .dataframe tbody tr th {\n",
              "        vertical-align: top;\n",
              "    }\n",
              "\n",
              "    .dataframe thead th {\n",
              "        text-align: right;\n",
              "    }\n",
              "</style>\n",
              "<table border=\"1\" class=\"dataframe\">\n",
              "  <thead>\n",
              "    <tr style=\"text-align: right;\">\n",
              "      <th></th>\n",
              "      <th>Actual</th>\n",
              "      <th>Predicted</th>\n",
              "    </tr>\n",
              "  </thead>\n",
              "  <tbody>\n",
              "    <tr>\n",
              "      <th>1248</th>\n",
              "      <td>6.8</td>\n",
              "      <td>6.322550</td>\n",
              "    </tr>\n",
              "    <tr>\n",
              "      <th>287</th>\n",
              "      <td>6.8</td>\n",
              "      <td>6.334038</td>\n",
              "    </tr>\n",
              "    <tr>\n",
              "      <th>1238</th>\n",
              "      <td>6.7</td>\n",
              "      <td>6.272528</td>\n",
              "    </tr>\n",
              "    <tr>\n",
              "      <th>381</th>\n",
              "      <td>5.3</td>\n",
              "      <td>5.528262</td>\n",
              "    </tr>\n",
              "    <tr>\n",
              "      <th>956</th>\n",
              "      <td>6.4</td>\n",
              "      <td>6.503269</td>\n",
              "    </tr>\n",
              "    <tr>\n",
              "      <th>...</th>\n",
              "      <td>...</td>\n",
              "      <td>...</td>\n",
              "    </tr>\n",
              "    <tr>\n",
              "      <th>555</th>\n",
              "      <td>5.0</td>\n",
              "      <td>5.027269</td>\n",
              "    </tr>\n",
              "    <tr>\n",
              "      <th>1333</th>\n",
              "      <td>6.2</td>\n",
              "      <td>5.699913</td>\n",
              "    </tr>\n",
              "    <tr>\n",
              "      <th>814</th>\n",
              "      <td>5.7</td>\n",
              "      <td>6.376174</td>\n",
              "    </tr>\n",
              "    <tr>\n",
              "      <th>1865</th>\n",
              "      <td>3.5</td>\n",
              "      <td>5.256805</td>\n",
              "    </tr>\n",
              "    <tr>\n",
              "      <th>1283</th>\n",
              "      <td>6.5</td>\n",
              "      <td>6.125183</td>\n",
              "    </tr>\n",
              "  </tbody>\n",
              "</table>\n",
              "<p>584 rows × 2 columns</p>\n",
              "</div>"
            ],
            "text/plain": [
              "      Actual  Predicted\n",
              "1248     6.8   6.322550\n",
              "287      6.8   6.334038\n",
              "1238     6.7   6.272528\n",
              "381      5.3   5.528262\n",
              "956      6.4   6.503269\n",
              "...      ...        ...\n",
              "555      5.0   5.027269\n",
              "1333     6.2   5.699913\n",
              "814      5.7   6.376174\n",
              "1865     3.5   5.256805\n",
              "1283     6.5   6.125183\n",
              "\n",
              "[584 rows x 2 columns]"
            ]
          },
          "metadata": {},
          "execution_count": 30
        }
      ]
    },
    {
      "cell_type": "code",
      "metadata": {
        "colab": {
          "base_uri": "https://localhost:8080/"
        },
        "id": "XOKLnDPYJ7rV",
        "outputId": "9b28f357-e572-47c6-bebc-3178bc7d08df"
      },
      "source": [
        "print('Mean Absolute Error:', metrics.mean_absolute_error(y_test, y_pred))\n",
        "print('Mean Squared Error:', metrics.mean_squared_error(y_test, y_pred))\n",
        "print('Root Mean Squared Error:', np.sqrt(metrics.mean_squared_error(y_test, y_pred)))\n",
        "print('R^2: ', metrics.r2_score(y_test, y_pred))"
      ],
      "execution_count": null,
      "outputs": [
        {
          "output_type": "stream",
          "name": "stdout",
          "text": [
            "Mean Absolute Error: 0.48607074037526665\n",
            "Mean Squared Error: 0.4124161993497074\n",
            "Root Mean Squared Error: 0.6421963869017853\n",
            "R^2:  0.5470163010426967\n"
          ]
        }
      ]
    },
    {
      "cell_type": "markdown",
      "metadata": {
        "id": "RwCG9C2DHi9i"
      },
      "source": [
        "## Regression - Bagging (Ensemble)\n"
      ]
    },
    {
      "cell_type": "code",
      "metadata": {
        "id": "WIfE1DfJKHaa",
        "colab": {
          "base_uri": "https://localhost:8080/"
        },
        "outputId": "4419290b-75dc-4909-bdf5-dd6d8e6171c3"
      },
      "source": [
        "X = StandardScaler().fit_transform(df[['duration', 'budget', 'usa_gross_income', 'director_avg']])\n",
        "y = df['avg_vote']\n",
        "\n",
        "X_train4, X_test4, y_train4, ytrue4 = train_test_split(X, y, test_size=0.3, random_state=1)\n",
        "\n",
        "regressor = BaggingRegressor(base_estimator=SGDRegressor(), n_estimators=1000, max_samples=35, max_features=4)\n",
        "regressor.fit(X_train4, y_train4);\n",
        "\n",
        "y_pred4 = regressor.predict(X_test4)\n",
        "\n",
        "print('Mean Absolute Error:', metrics.mean_absolute_error(ytrue4, y_pred4))\n",
        "print('Mean Squared Error:', metrics.mean_squared_error(ytrue4, y_pred4))\n",
        "print('Root Mean Squared Error:', np.sqrt(metrics.mean_squared_error(ytrue4, y_pred4)))\n",
        "print('R^2: ', metrics.r2_score(ytrue4, y_pred4))"
      ],
      "execution_count": null,
      "outputs": [
        {
          "output_type": "stream",
          "name": "stdout",
          "text": [
            "Mean Absolute Error: 0.5266401025334572\n",
            "Mean Squared Error: 0.46568491537530554\n",
            "Root Mean Squared Error: 0.6824111043757315\n",
            "R^2:  0.5139885940954665\n"
          ]
        }
      ]
    }
  ]
}